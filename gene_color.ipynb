{
 "nbformat": 4,
 "nbformat_minor": 2,
 "metadata": {
  "language_info": {
   "name": "python",
   "codemirror_mode": {
    "name": "ipython",
    "version": 3
   },
   "version": "3.7.6-final"
  },
  "orig_nbformat": 2,
  "file_extension": ".py",
  "mimetype": "text/x-python",
  "name": "python",
  "npconvert_exporter": "python",
  "pygments_lexer": "ipython3",
  "version": 3,
  "kernelspec": {
   "name": "python37464bitbaseconda6e0f5c1b07b9483ea2e45e01b109961b",
   "display_name": "Python 3.7.4 64-bit ('base': conda)"
  }
 },
 "cells": [
  {
   "cell_type": "markdown",
   "metadata": {},
   "source": [
    "# Gene_Color - convert a gene sequence into a 4 colour 2d block\n",
    "simple python practice"
   ]
  },
  {
   "cell_type": "markdown",
   "metadata": {},
   "source": [
    "## TESTING\n",
    "### simple print blocks tests"
   ]
  },
  {
   "cell_type": "code",
   "execution_count": 1,
   "metadata": {},
   "outputs": [
    {
     "output_type": "stream",
     "name": "stdout",
     "text": "\u001b[34m■\u001b[32m■\u001b[30m■\u001b[36m■\n\u001b[33m■\n"
    }
   ],
   "source": [
    "ord(\"■\")\n",
    "\n",
    "from colorama import Fore as FG\n",
    "from colorama import Style as ST\n",
    "\n",
    "print(f\"{FG.BLUE}■{FG.GREEN}■{FG.YELLOW}■{FG.CYAN}■\")\n",
    "print(f\"{FG.YELLOW}■\")"
   ]
  }
 ]
}