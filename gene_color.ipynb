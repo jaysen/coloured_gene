{
 "nbformat": 4,
 "nbformat_minor": 2,
 "metadata": {
  "language_info": {
   "name": "python",
   "codemirror_mode": {
    "name": "ipython",
    "version": 3
   },
   "version": "3.7.6-final"
  },
  "orig_nbformat": 2,
  "file_extension": ".py",
  "mimetype": "text/x-python",
  "name": "python",
  "npconvert_exporter": "python",
  "pygments_lexer": "ipython3",
  "version": 3,
  "kernelspec": {
   "name": "python37464bitbaseconda6e0f5c1b07b9483ea2e45e01b109961b",
   "display_name": "Python 3.7.4 64-bit ('base': conda)"
  }
 },
 "cells": [
  {
   "cell_type": "markdown",
   "metadata": {},
   "source": [
    "# Gene_Color - convert a gene sequence into a 4 colour 2d block\n",
    "simple python practice"
   ]
  },
  {
   "cell_type": "markdown",
   "metadata": {},
   "source": [
    "## TESTING\n",
    "### simple print blocks tests"
   ]
  },
  {
   "cell_type": "code",
   "execution_count": 4,
   "metadata": {},
   "outputs": [
    {
     "output_type": "stream",
     "name": "stdout",
     "text": "\u001b[34m■\u001b[32m■\u001b[35m■\u001b[36m■\n\u001b[33m■\n"
    }
   ],
   "source": [
    "ord(\"■\")\n",
    "\n",
    "from colorama import Fore as FG\n",
    "from colorama import Style as ST\n",
    "\n",
    "print(f\"{FG.BLUE}■{FG.GREEN}■{FG.MAGENTA}■{FG.CYAN}■\")\n",
    "print(f\"{FG.YELLOW}■\")"
   ]
  },
  {
   "cell_type": "code",
   "execution_count": 5,
   "metadata": {},
   "outputs": [
    {
     "output_type": "stream",
     "name": "stdout",
     "text": "ATGAC\n\u001b[31m■\u001b[35m■\u001b[32m■\u001b[31m■\u001b[33m■\n"
    }
   ],
   "source": [
    "from colorama import Fore as FG\n",
    "from colorama import Style as ST\n",
    "red = f\"{FG.RED}■\"\n",
    "yel = f\"{FG.YELLOW}■\"\n",
    "blu = f\"{FG.BLUE}■\"\n",
    "grn = f\"{FG.GREEN}■\"\n",
    "mag = f\"{FG.MAGENTA}■\"\n",
    "\n",
    "gene = \"ATGAC\"\n",
    "colsq = gene.replace('A',red).replace('T',mag).replace('G',grn).replace('C',yel)\n",
    "print(gene)\n",
    "print(colsq)"
   ]
  },
  {
   "cell_type": "markdown",
   "metadata": {},
   "source": [
    "## Function gene_to_blocks(gene_seq, stripblanks)"
   ]
  },
  {
   "cell_type": "code",
   "execution_count": 6,
   "metadata": {},
   "outputs": [
    {
     "output_type": "stream",
     "name": "stdout",
     "text": "\u001b[32m■\u001b[34m■\u001b[31m■\u001b[33m■\u001b[31m■\u001b[34m■ \u001b[34m■\u001b[31m■\u001b[33m■\u001b[34m■\u001b[31m■\u001b[31m■ \u001b[31m■\u001b[32m■\u001b[34m■\u001b[31m■\u001b[32m■\u001b[34m■ \u001b[34m■\u001b[32m■\u001b[31m■\u001b[32m■\u001b[32m■\u001b[34m■\n\u001b[32m■\u001b[34m■\u001b[31m■\u001b[33m■\u001b[31m■\u001b[34m■\u001b[34m■\u001b[31m■\u001b[33m■\u001b[34m■\u001b[31m■\u001b[31m■\u001b[31m■\u001b[32m■\u001b[34m■\u001b[31m■\u001b[32m■\u001b[34m■\u001b[34m■\u001b[32m■\u001b[31m■\u001b[32m■\u001b[32m■\u001b[34m■\n"
    }
   ],
   "source": [
    "from colorama import Fore as FG\n",
    "from colorama import Style as ST\n",
    "\n",
    "def gene_to_blocks(gene_seq, stripblanks=False):\n",
    "\n",
    "    red = f\"{FG.RED}■\"\n",
    "    yel = f\"{FG.YELLOW}■\"\n",
    "    blu = f\"{FG.BLUE}■\"\n",
    "    grn = f\"{FG.GREEN}■\"\n",
    "    mag = f\"{FG.MAGENTA}■\"\n",
    "\n",
    "    blocks = gene_seq.replace('A',red).replace('T',blu).replace('G',grn).replace('C',yel)\n",
    "    if stripblanks:\n",
    "        blocks = blocks.replace(' ','')\n",
    "    return blocks\n",
    "\n",
    "print(gene_to_blocks(\"GTACAT TACTAA AGTAGT TGAGGT\"))\n",
    "print(gene_to_blocks(\"GTACAT TACTAA AGTAGT TGAGGT\",True))"
   ]
  }
 ]
}