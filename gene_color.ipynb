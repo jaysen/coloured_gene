{
 "cells": [
  {
   "cell_type": "markdown",
   "metadata": {},
   "source": [
    "# Gene_Color - convert a gene sequence into a 4 colour 2d block\n",
    "simple python practice"
   ]
  },
  {
   "cell_type": "markdown",
   "metadata": {},
   "source": [
    "## TESTING\n",
    "### simple print blocks tests"
   ]
  },
  {
   "cell_type": "code",
   "execution_count": null,
   "metadata": {},
   "outputs": [],
   "source": [
    "ord(\"■\")\n",
    "\n",
    "from colorama import Fore as FG\n",
    "from colorama import Style as ST\n",
    "\n",
    "print(f\"{FG.BLUE}■{FG.GREEN}■{FG.MAGENTA}■{FG.CYAN}■\")\n",
    "print(f\"{FG.YELLOW}■\")"
   ]
  },
  {
   "cell_type": "code",
   "execution_count": null,
   "metadata": {},
   "outputs": [],
   "source": [
    "from colorama import Fore as FG\n",
    "from colorama import Style as ST\n",
    "red = f\"{FG.RED}■\"\n",
    "yel = f\"{FG.YELLOW}■\"\n",
    "blu = f\"{FG.BLUE}■\"\n",
    "grn = f\"{FG.GREEN}■\"\n",
    "mag = f\"{FG.MAGENTA}■\"\n",
    "\n",
    "gene = \"ATGAC\"\n",
    "colsq = gene.replace('A',red).replace('T',mag).replace('G',grn).replace('C',yel)\n",
    "print(gene)\n",
    "print(colsq)"
   ]
  },
  {
   "cell_type": "markdown",
   "metadata": {},
   "source": [
    "## Function gene_to_blocks(gene_seq, stripblanks)"
   ]
  },
  {
   "cell_type": "code",
   "execution_count": null,
   "metadata": {},
   "outputs": [],
   "source": [
    "from colorama import Fore as FG\n",
    "from colorama import Style as ST\n",
    "\n",
    "def gene_to_blocks(gene_seq, stripblanks=False):\n",
    "\n",
    "    red = f\"{FG.RED}■\"\n",
    "    yel = f\"{FG.YELLOW}■\"\n",
    "    blu = f\"{FG.BLUE}■\"\n",
    "    grn = f\"{FG.GREEN}■\"\n",
    "    mag = f\"{FG.MAGENTA}■\"\n",
    "\n",
    "    blocks = gene_seq.replace('A',red).replace('T',blu).replace('G',grn).replace('C',yel)\n",
    "    if stripblanks:\n",
    "        blocks = blocks.replace(' ','')\n",
    "    return blocks\n",
    "\n",
    "print(gene_to_blocks(\"GTACAT TACTAA AGTAGT TGAGGT\"))\n",
    "print(gene_to_blocks(\"GTACAT TACTAA AGTAGT TGAGGT\",True))"
   ]
  },
  {
   "cell_type": "code",
   "execution_count": null,
   "metadata": {
    "tags": [
     "outputPrepend"
    ]
   },
   "outputs": [],
   "source": [
    "# Read gene sequence from file and print color blocks:\n",
    "def print_blocks_from_file(filepath):\n",
    "    with open (filepath, \"r\") as gene_file:\n",
    "        seq = gene_file.read()\n",
    "    print(gene_to_blocks(seq,True))\n",
    "\n",
    "print_blocks_from_file(\"covid-19.txt\")"
   ]
  },
  {
   "cell_type": "code",
   "execution_count": null,
   "metadata": {},
   "outputs": [],
   "source": []
  },
  {
   "cell_type": "markdown",
   "metadata": {},
   "source": [
    "## Testing:\n",
    "### test TKinter "
   ]
  },
  {
   "cell_type": "code",
   "execution_count": null,
   "metadata": {},
   "outputs": [],
   "source": [
    "import tkinter\n",
    "root = tkinter.Tk()\n",
    "cv = tkinter.Canvas(root, bg=\"white\", height=600, width=600)\n",
    "\n",
    "cv.create_rectangle(5,5,30,30, fill=\"red\")\n",
    "cv.pack()\n",
    "root.mainloop()"
   ]
  },
  {
   "cell_type": "code",
   "execution_count": null,
   "metadata": {},
   "outputs": [],
   "source": [
    "import tkinter\n",
    "root = tkinter.Tk()\n",
    "cv = tkinter.Canvas(root, bg=\"white\", height=600, width=600)\n",
    "\n",
    "def position_square(x,y):\n",
    "    cv.create_rectangle(5+x*20,5+y*20,20+x*20,20+y*20, fill=\"red\")\n",
    "\n",
    "position_square(1,1)\n",
    "position_square(2,1)\n",
    "position_square(3,1)\n",
    "position_square(3,1)\n",
    "position_square(3,2)\n",
    "position_square(3,3)\n",
    "\n",
    "cv.pack()\n",
    "root.mainloop()\n",
    "\n"
   ]
  },
  {
   "cell_type": "code",
   "execution_count": null,
   "metadata": {},
   "outputs": [],
   "source": [
    "import tkinter\n",
    "root = tkinter.Tk()\n",
    "cv = tkinter.Canvas(root, bg=\"white\", height=600, width=600)\n",
    "\n",
    "### draw a grid of color blocks\n",
    "# x: column number\n",
    "# y: row number\n",
    "# color: color of the block\n",
    "def position_color_block(x,y, color=\"red\"):\n",
    "    cv.create_rectangle(x*20,y*20,20+x*20,20+y*20, fill=color)\n",
    "    \n",
    "position_color_block(1,1,\"red\")\n",
    "position_color_block(2,1,\"yellow\")\n",
    "position_color_block(3,1,\"blue\")\n",
    "position_color_block(3,1,\"green\")\n",
    "position_color_block(3,2,\"orange\")\n",
    "position_color_block(3,3)\n",
    "\n",
    "cv.pack()\n",
    "root.mainloop()"
   ]
  },
  {
   "cell_type": "code",
   "execution_count": null,
   "metadata": {},
   "outputs": [],
   "source": [
    "import tkinter\n",
    "root = tkinter.Tk()\n",
    "cv = tkinter.Canvas(root, bg=\"white\", height=600, width=600)\n",
    "\n",
    "### draw a grid of color blocks\n",
    "# n: absolute position in the grid\n",
    "# width: width of the grid\n",
    "# color: color of the block\n",
    "def position_color_block(n, width=16, color=\"red\"):\n",
    "    row = n // width\n",
    "    col = n % width\n",
    "    print(f\"({row},{col})\")\n",
    "    cv.create_rectangle(col*20,row*20,20+col*20,20+row*20, fill=color)\n",
    "    \n",
    "position_color_block(0,10)\n",
    "position_color_block(20,10)\n",
    "position_color_block(2,10)\n",
    "position_color_block(7,10)\n",
    "position_color_block(8,10)\n",
    "position_color_block(9,10)\n",
    "position_color_block(10,10)\n",
    "position_color_block(11,10)\n",
    "position_color_block(12,10)\n",
    "position_color_block(22,10)\n",
    "position_color_block(33,10)\n",
    "position_color_block(44,10,\"brown\")\n",
    "\n",
    "cv.pack()\n",
    "root.mainloop()\n"
   ]
  },
  {
   "cell_type": "code",
   "execution_count": null,
   "metadata": {},
   "outputs": [],
   "source": [
    "base_col = dict({'A':\"red\", 'C':\"orange\", 'G':\"yellow\", 'T':\"brown\"})\n",
    "base_col.get('A',\"black\")\n",
    "\n",
    "seq = \"ATTTACGGCATG\"\n",
    "for i in range(0,len(seq)):\n",
    "    print(i)\n"
   ]
  },
  {
   "cell_type": "code",
   "execution_count": null,
   "metadata": {},
   "outputs": [],
   "source": [
    "import tkinter\n",
    "root = tkinter.Tk()\n",
    "cv = tkinter.Canvas(root, bg=\"white\", height=600, width=600)\n",
    "\n",
    "base_col = dict({'A':\"red\", 'C':\"orange\", 'G':\"yellow\", 'T':\"brown\"})\n",
    "\n",
    "### draw a grid of color blocks\n",
    "# n: absolute position in the grid\n",
    "# width: width of the grid\n",
    "# color: color of the block\n",
    "def position_color_block(n, width=16, color=\"red\"):\n",
    "    row = n // width\n",
    "    col = n % width\n",
    "    print(f\"({row},{col})\")\n",
    "    cv.create_rectangle(col*20,row*20,20+col*20,20+row*20, fill=color)\n",
    "    \n",
    "def gene_colour(seq):\n",
    "    print(f\"len(seq) = {len(seq)}\")\n",
    "    for i in range(0,len(seq)):\n",
    "        print(i)\n",
    "        position_color_block(i,12,base_col.get(seq[i],\"black\"))\n",
    " \n",
    "                   \n",
    "gene_colour(\"ATTTACGGCATGGTAATCCTCGAGCGTGTAGGC  G\")\n",
    "\n",
    "\n",
    "cv.pack()\n",
    "root.mainloop()"
   ]
  },
  {
   "cell_type": "code",
   "execution_count": null,
   "metadata": {},
   "outputs": [],
   "source": [
    "import tkinter\n",
    "base_col = dict({'A':\"red\", 'C':\"orange\", 'G':\"yellow\", 'T':\"brown\"})\n",
    "\n",
    "### draw a grid of color blocks\n",
    "# n: absolute position in the grid\n",
    "# width: width of the grid\n",
    "# color: color of the block\n",
    "def position_color_block(canvas, n, width=16, color=\"red\"):\n",
    "    row = n // width\n",
    "    col = n % width\n",
    "    print(f\"({row},{col})\")\n",
    "    canvas.create_rectangle(col*20,row*20,20+col*20,20+row*20, fill=color)\n",
    "\n",
    "    \n",
    "def gene_colour(canvas, seq):\n",
    "    #print(f\"len(seq) = {len(seq)}\")\n",
    "    for i in range(0,len(seq)):\n",
    "        print(i)\n",
    "        position_color_block(canvas, i,12,base_col.get(seq[i],\"black\"))\n",
    "        \n",
    "\n",
    "def tk_gene_colour(seq):\n",
    "    root = tkinter.Tk()\n",
    "    cv = tkinter.Canvas(root, bg=\"white\", height=600, width=600)\n",
    "    \n",
    "    gene_colour(cv, seq)\n",
    "    \n",
    "    cv.pack()\n",
    "    root.mainloop()\n",
    "\n",
    "tk_gene_colour(\"ATTTACGGCATGGTAATCCTCGAGCGTGTAGGC  G\")"
   ]
  },
  {
   "cell_type": "code",
   "execution_count": null,
   "metadata": {},
   "outputs": [],
   "source": [
    "# Read gene sequence from file and print color blocks:\n",
    "def print_blocks_from_file(filepath):\n",
    "    with open (filepath, \"r\") as gene_file:\n",
    "        seq = gene_file.read()\n",
    "    print(gene_to_blocks(seq,True))\n",
    "\n",
    "print_blocks_from_file(\"covid-19.txt\")"
   ]
  }
 ],
 "metadata": {
  "file_extension": ".py",
  "kernelspec": {
   "display_name": "Python 3.7.4 64-bit ('base': conda)",
   "language": "python",
   "name": "python37464bitbaseconda6e0f5c1b07b9483ea2e45e01b109961b"
  },
  "language_info": {
   "codemirror_mode": {
    "name": "ipython",
    "version": 3
   },
   "file_extension": ".py",
   "mimetype": "text/x-python",
   "name": "python",
   "nbconvert_exporter": "python",
   "pygments_lexer": "ipython3",
   "version": "3.7.6"
  },
  "mimetype": "text/x-python",
  "name": "python",
  "npconvert_exporter": "python",
  "pygments_lexer": "ipython3",
  "version": 3
 },
 "nbformat": 4,
 "nbformat_minor": 2
}
